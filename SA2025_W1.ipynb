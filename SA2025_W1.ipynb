{
 "cells": [
  {
   "cell_type": "markdown",
   "id": "0732e6a3",
   "metadata": {},
   "source": [
    "# Summer Analytics 2025 - Week 1 Assignment\n",
    "Welcome! This notebook contains the solutions to the Week 1 Data Analysis assignment."
   ]
  },
  {
   "cell_type": "markdown",
   "id": "276d48f2",
   "metadata": {},
   "source": [
    "### 1) Start by importing all important libraries"
   ]
  },
  {
   "cell_type": "code",
   "execution_count": null,
   "id": "c2c67a04",
   "metadata": {},
   "outputs": [],
   "source": [
    "import pandas as pd\n",
    "import numpy as np\n",
    "import matplotlib.pyplot as plt\n",
    "import seaborn as sns\n",
    "\n",
    "%matplotlib inline"
   ]
  },
  {
   "cell_type": "markdown",
   "id": "29bc0be3",
   "metadata": {},
   "source": [
    "### 2) Read the csv file and assign it to a variable"
   ]
  },
  {
   "cell_type": "code",
   "execution_count": null,
   "id": "83512ae3",
   "metadata": {},
   "outputs": [],
   "source": [
    "df = pd.read_csv('Cars.csv')\n",
    "df.head()"
   ]
  },
  {
   "cell_type": "markdown",
   "id": "a447986d",
   "metadata": {},
   "source": [
    "### 3) Display the number of rows and columns"
   ]
  },
  {
   "cell_type": "code",
   "execution_count": null,
   "id": "c09a285b",
   "metadata": {},
   "outputs": [],
   "source": [
    "df.shape"
   ]
  },
  {
   "cell_type": "markdown",
   "id": "27bec660",
   "metadata": {},
   "source": [
    "### 4) Display column-wise info"
   ]
  },
  {
   "cell_type": "code",
   "execution_count": null,
   "id": "581126c2",
   "metadata": {},
   "outputs": [],
   "source": [
    "df.info()"
   ]
  },
  {
   "cell_type": "markdown",
   "id": "4d88d233",
   "metadata": {},
   "source": [
    "### 5) Check for missing values in the dataset"
   ]
  },
  {
   "cell_type": "code",
   "execution_count": null,
   "id": "cf60d77d",
   "metadata": {},
   "outputs": [],
   "source": [
    "df.isnull().sum()"
   ]
  },
  {
   "cell_type": "markdown",
   "id": "977890e4",
   "metadata": {},
   "source": [
    "### 6) Fill the missing values in the horsepower column with the mean"
   ]
  },
  {
   "cell_type": "code",
   "execution_count": null,
   "id": "c7e920eb",
   "metadata": {},
   "outputs": [],
   "source": [
    "df['horsepower'].fillna(df['horsepower'].mean(), inplace=True)\n",
    "df.isnull().sum()"
   ]
  },
  {
   "cell_type": "markdown",
   "id": "d73532c5",
   "metadata": {},
   "source": [
    "### 7) Display summary statistics for numerical columns"
   ]
  },
  {
   "cell_type": "code",
   "execution_count": null,
   "id": "d2ad2a37",
   "metadata": {},
   "outputs": [],
   "source": [
    "df.describe()"
   ]
  },
  {
   "cell_type": "markdown",
   "id": "ccc0fc14",
   "metadata": {},
   "source": [
    "### 8) Display the number of cars from each origin"
   ]
  },
  {
   "cell_type": "code",
   "execution_count": null,
   "id": "be193774",
   "metadata": {},
   "outputs": [],
   "source": [
    "df['origin'].value_counts()"
   ]
  },
  {
   "cell_type": "markdown",
   "id": "96a12a4a",
   "metadata": {},
   "source": [
    "### 9) Plot the distribution of mpg"
   ]
  },
  {
   "cell_type": "code",
   "execution_count": null,
   "id": "a3029839",
   "metadata": {},
   "outputs": [],
   "source": [
    "plt.figure(figsize=(8,5))\n",
    "sns.histplot(df['mpg'], bins=20, kde=True)\n",
    "plt.title('Distribution of MPG')\n",
    "plt.xlabel('MPG')\n",
    "plt.ylabel('Frequency')\n",
    "plt.show()"
   ]
  },
  {
   "cell_type": "markdown",
   "id": "55516cfe",
   "metadata": {},
   "source": [
    "### 10) Correlation heatmap between numerical features"
   ]
  },
  {
   "cell_type": "code",
   "execution_count": null,
   "id": "45da97b5",
   "metadata": {},
   "outputs": [],
   "source": [
    "plt.figure(figsize=(10,6))\n",
    "sns.heatmap(df.corr(), annot=True, cmap='coolwarm')\n",
    "plt.title('Correlation Heatmap')\n",
    "plt.show()"
   ]
  }
 ],
 "metadata": {},
 "nbformat": 4,
 "nbformat_minor": 5
}
